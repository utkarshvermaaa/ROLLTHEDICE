{
 "cells": [
  {
   "cell_type": "code",
   "execution_count": 1,
   "id": "c9fc51b9",
   "metadata": {},
   "outputs": [
    {
     "name": "stdout",
     "output_type": "stream",
     "text": [
      "IF YOU WANT TO ROLL THE DICE ENTER 1,TO EXIT ENTER 2\n",
      "1\n",
      "DICE ROLLED UP TO 4\n",
      "IF YOU WANT TO ROLL THE DICE ENTER 1,TO EXIT ENTER 2\n",
      "2\n"
     ]
    }
   ],
   "source": [
    "import random \n",
    "while True:       \n",
    "     user = int(input(\"IF YOU WANT TO ROLL THE DICE ENTER 1,TO EXIT ENTER 2\\n\"))     \n",
    "     if user==1:         \n",
    "        number = random.randint(1,6)         \n",
    "        print(f\"DICE ROLLED UP TO {number}\")     \n",
    "     else:         \n",
    "        break"
   ]
  }
 ],
 "metadata": {
  "kernelspec": {
   "display_name": "Python 3 (ipykernel)",
   "language": "python",
   "name": "python3"
  },
  "language_info": {
   "codemirror_mode": {
    "name": "ipython",
    "version": 3
   },
   "file_extension": ".py",
   "mimetype": "text/x-python",
   "name": "python",
   "nbconvert_exporter": "python",
   "pygments_lexer": "ipython3",
   "version": "3.9.12"
  }
 },
 "nbformat": 4,
 "nbformat_minor": 5
}
